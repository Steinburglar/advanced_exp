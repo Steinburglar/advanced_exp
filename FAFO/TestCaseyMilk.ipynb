{
 "cells": [
  {
   "cell_type": "code",
   "execution_count": 1,
   "metadata": {},
   "outputs": [],
   "source": [
    "import millikan.Dataloader as dl\n",
    "import os\n",
    "from sympy import symbols, Eq, latex\n",
    "import numpy as np\n",
    "import matplotlib.pyplot as plt\n",
    "from scipy.optimize import curve_fit"
   ]
  },
  {
   "cell_type": "code",
   "execution_count": 2,
   "metadata": {},
   "outputs": [
    {
     "name": "stdout",
     "output_type": "stream",
     "text": [
      "c:\\Users\\casey\\advanced_exp\\FAFO\n"
     ]
    }
   ],
   "source": [
    "print(os.getcwd())"
   ]
  },
  {
   "cell_type": "code",
   "execution_count": 3,
   "metadata": {},
   "outputs": [],
   "source": [
    "\n",
    "dfs = dl.load_velocity_data(\"../Databases/BBL_Master_Drops.csv\")"
   ]
  },
  {
   "cell_type": "code",
   "execution_count": 7,
   "metadata": {},
   "outputs": [
    {
     "data": {
      "text/plain": [
       "[0.166,\n",
       " 0.157,\n",
       " 0.139,\n",
       " 0.135,\n",
       " 0.133,\n",
       " 0.07,\n",
       " 0.001,\n",
       " -0.024,\n",
       " -0.023,\n",
       " -0.019,\n",
       " -0.016,\n",
       " -0.019,\n",
       " -0.026,\n",
       " -0.025,\n",
       " -0.018,\n",
       " -0.014,\n",
       " -0.017,\n",
       " -0.018,\n",
       " -0.021,\n",
       " -0.025,\n",
       " -0.022,\n",
       " -0.023]"
      ]
     },
     "execution_count": 7,
     "metadata": {},
     "output_type": "execute_result"
    }
   ],
   "source": [
    "dfs['BBL2']['drop 8']"
   ]
  },
  {
   "cell_type": "code",
   "execution_count": null,
   "metadata": {},
   "outputs": [],
   "source": []
  },
  {
   "cell_type": "code",
   "execution_count": null,
   "metadata": {},
   "outputs": [],
   "source": []
  }
 ],
 "metadata": {
  "kernelspec": {
   "display_name": "exp",
   "language": "python",
   "name": "python3"
  },
  "language_info": {
   "codemirror_mode": {
    "name": "ipython",
    "version": 3
   },
   "file_extension": ".py",
   "mimetype": "text/x-python",
   "name": "python",
   "nbconvert_exporter": "python",
   "pygments_lexer": "ipython3",
   "version": "3.9.21"
  }
 },
 "nbformat": 4,
 "nbformat_minor": 2
}
